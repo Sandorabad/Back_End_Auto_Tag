{
 "cells": [
  {
   "cell_type": "code",
   "execution_count": 1,
   "metadata": {},
   "outputs": [],
   "source": [
    "#tipicas\n",
    "import pandas as pd\n",
    "import numpy as np\n",
    "\n",
    "#para la creacion de carpetas\n",
    "import os\n",
    "import shutil\n",
    "\n",
    "#para el test-train split\n",
    "import splitfolders #(necesita pip install split-folders)"
   ]
  },
  {
   "cell_type": "code",
   "execution_count": 2,
   "metadata": {},
   "outputs": [],
   "source": [
    "#importamos el df con las labels\n",
    "path_csv = \"/home/vvdiaz1/code/vvdiaz1/automatic_tagging/raw_data/filtered_styles_full.csv\"\n",
    "df = pd.read_csv(path_csv)"
   ]
  },
  {
   "cell_type": "code",
   "execution_count": 3,
   "metadata": {},
   "outputs": [],
   "source": [
    "img_names = os.listdir(\"/home/vvdiaz1/code/vvdiaz1/automatic_tagging/raw_data/data_full\")\n",
    "list_id = []\n",
    "for i in img_names:\n",
    "    list_id.append(int(i[:-4]))"
   ]
  },
  {
   "cell_type": "code",
   "execution_count": 4,
   "metadata": {},
   "outputs": [
    {
     "data": {
      "text/plain": [
       "44288"
      ]
     },
     "execution_count": 4,
     "metadata": {},
     "output_type": "execute_result"
    }
   ],
   "source": [
    "len(list_id)"
   ]
  },
  {
   "cell_type": "code",
   "execution_count": 5,
   "metadata": {},
   "outputs": [
    {
     "name": "stderr",
     "output_type": "stream",
     "text": [
      "/tmp/ipykernel_1062/4194183816.py:1: FutureWarning: In a future version of pandas all arguments of DataFrame.drop except for the argument 'labels' will be keyword-only.\n",
      "  aux = df.drop(df.columns.difference(['id', 'masterCategory','subCategory']),1)\n"
     ]
    },
    {
     "data": {
      "text/html": [
       "<div>\n",
       "<style scoped>\n",
       "    .dataframe tbody tr th:only-of-type {\n",
       "        vertical-align: middle;\n",
       "    }\n",
       "\n",
       "    .dataframe tbody tr th {\n",
       "        vertical-align: top;\n",
       "    }\n",
       "\n",
       "    .dataframe thead th {\n",
       "        text-align: right;\n",
       "    }\n",
       "</style>\n",
       "<table border=\"1\" class=\"dataframe\">\n",
       "  <thead>\n",
       "    <tr style=\"text-align: right;\">\n",
       "      <th></th>\n",
       "      <th>id</th>\n",
       "      <th>masterCategory</th>\n",
       "      <th>subCategory</th>\n",
       "      <th>name</th>\n",
       "    </tr>\n",
       "  </thead>\n",
       "  <tbody>\n",
       "    <tr>\n",
       "      <th>0</th>\n",
       "      <td>15970</td>\n",
       "      <td>Apparel</td>\n",
       "      <td>Topwear</td>\n",
       "      <td>15970.jpg</td>\n",
       "    </tr>\n",
       "    <tr>\n",
       "      <th>1</th>\n",
       "      <td>39386</td>\n",
       "      <td>Apparel</td>\n",
       "      <td>Bottomwear</td>\n",
       "      <td>39386.jpg</td>\n",
       "    </tr>\n",
       "    <tr>\n",
       "      <th>2</th>\n",
       "      <td>59263</td>\n",
       "      <td>Accessories</td>\n",
       "      <td>Watches</td>\n",
       "      <td>59263.jpg</td>\n",
       "    </tr>\n",
       "    <tr>\n",
       "      <th>3</th>\n",
       "      <td>21379</td>\n",
       "      <td>Apparel</td>\n",
       "      <td>Bottomwear</td>\n",
       "      <td>21379.jpg</td>\n",
       "    </tr>\n",
       "    <tr>\n",
       "      <th>4</th>\n",
       "      <td>53759</td>\n",
       "      <td>Apparel</td>\n",
       "      <td>Topwear</td>\n",
       "      <td>53759.jpg</td>\n",
       "    </tr>\n",
       "    <tr>\n",
       "      <th>...</th>\n",
       "      <td>...</td>\n",
       "      <td>...</td>\n",
       "      <td>...</td>\n",
       "      <td>...</td>\n",
       "    </tr>\n",
       "    <tr>\n",
       "      <th>44283</th>\n",
       "      <td>17036</td>\n",
       "      <td>Footwear</td>\n",
       "      <td>Shoes</td>\n",
       "      <td>17036.jpg</td>\n",
       "    </tr>\n",
       "    <tr>\n",
       "      <th>44284</th>\n",
       "      <td>6461</td>\n",
       "      <td>Footwear</td>\n",
       "      <td>Flip Flops</td>\n",
       "      <td>6461.jpg</td>\n",
       "    </tr>\n",
       "    <tr>\n",
       "      <th>44285</th>\n",
       "      <td>18842</td>\n",
       "      <td>Apparel</td>\n",
       "      <td>Topwear</td>\n",
       "      <td>18842.jpg</td>\n",
       "    </tr>\n",
       "    <tr>\n",
       "      <th>44286</th>\n",
       "      <td>46694</td>\n",
       "      <td>Personal Care</td>\n",
       "      <td>Fragrance</td>\n",
       "      <td>46694.jpg</td>\n",
       "    </tr>\n",
       "    <tr>\n",
       "      <th>44287</th>\n",
       "      <td>51623</td>\n",
       "      <td>Accessories</td>\n",
       "      <td>Watches</td>\n",
       "      <td>51623.jpg</td>\n",
       "    </tr>\n",
       "  </tbody>\n",
       "</table>\n",
       "<p>44288 rows × 4 columns</p>\n",
       "</div>"
      ],
      "text/plain": [
       "          id masterCategory subCategory       name\n",
       "0      15970        Apparel     Topwear  15970.jpg\n",
       "1      39386        Apparel  Bottomwear  39386.jpg\n",
       "2      59263    Accessories     Watches  59263.jpg\n",
       "3      21379        Apparel  Bottomwear  21379.jpg\n",
       "4      53759        Apparel     Topwear  53759.jpg\n",
       "...      ...            ...         ...        ...\n",
       "44283  17036       Footwear       Shoes  17036.jpg\n",
       "44284   6461       Footwear  Flip Flops   6461.jpg\n",
       "44285  18842        Apparel     Topwear  18842.jpg\n",
       "44286  46694  Personal Care   Fragrance  46694.jpg\n",
       "44287  51623    Accessories     Watches  51623.jpg\n",
       "\n",
       "[44288 rows x 4 columns]"
      ]
     },
     "execution_count": 5,
     "metadata": {},
     "output_type": "execute_result"
    }
   ],
   "source": [
    "aux = df.drop(df.columns.difference(['id', 'masterCategory','subCategory']),1)\n",
    "aux = aux[aux.id.isin(list_id)]\n",
    "aux['name'] = aux['id'].apply(str) +'.jpg'\n",
    "aux"
   ]
  },
  {
   "cell_type": "code",
   "execution_count": 94,
   "metadata": {},
   "outputs": [],
   "source": [
    "aux.to_csv('filtered_styles_half.csv',index = False)"
   ]
  },
  {
   "cell_type": "code",
   "execution_count": 6,
   "metadata": {},
   "outputs": [
    {
     "data": {
      "text/plain": [
       "['Accessories', 'Apparel', 'Footwear', 'Personal Care']"
      ]
     },
     "execution_count": 6,
     "metadata": {},
     "output_type": "execute_result"
    }
   ],
   "source": [
    "classes = aux.sort_values('masterCategory')\n",
    "class_names = np.unique(aux.masterCategory).tolist()\n",
    "class_names"
   ]
  },
  {
   "cell_type": "code",
   "execution_count": 7,
   "metadata": {},
   "outputs": [],
   "source": [
    "for i in class_names:\n",
    "    os.makedirs(os.path.join(\"/home/vvdiaz1/code/vvdiaz1/automatic_tagging/raw_data/data_sort_1\",i))"
   ]
  },
  {
   "cell_type": "code",
   "execution_count": 8,
   "metadata": {},
   "outputs": [],
   "source": [
    "for i in class_names:   \n",
    "    for c in list(aux[aux['masterCategory']== i]['name']):\n",
    "    # Creating path to the image\n",
    "        get_image = os.path.join(\"/home/vvdiaz1/code/vvdiaz1/automatic_tagging/raw_data/data_full\",str(c))\n",
    "        if not os.path.exists(\"/home/vvdiaz1/code/vvdiaz1/automatic_tagging/raw_data/data_sort_1/\"+i+\"/\"+c):\n",
    "            move = shutil.copy(get_image,\"/home/vvdiaz1/code/vvdiaz1/automatic_tagging/raw_data/data_sort_1/\"+i)"
   ]
  },
  {
   "cell_type": "code",
   "execution_count": 9,
   "metadata": {},
   "outputs": [],
   "source": [
    "input_folder = \"/home/vvdiaz1/code/vvdiaz1/automatic_tagging/raw_data/data_sort_1/\"\n",
    "output_folder = \"/home/vvdiaz1/code/vvdiaz1/automatic_tagging/raw_data/split1\""
   ]
  },
  {
   "cell_type": "code",
   "execution_count": 10,
   "metadata": {},
   "outputs": [],
   "source": [
    "splitfolders.ratio(input_folder, output=output_folder,\n",
    "                    seed=42,\n",
    "                    ratio=(.7, .2, .1), #usamos 70% train, 20% val, 10% test \n",
    "                    group_prefix=None)"
   ]
  }
 ],
 "metadata": {
  "kernelspec": {
   "display_name": "automatic-tagging",
   "language": "python",
   "name": "python3"
  },
  "language_info": {
   "codemirror_mode": {
    "name": "ipython",
    "version": 3
   },
   "file_extension": ".py",
   "mimetype": "text/x-python",
   "name": "python",
   "nbconvert_exporter": "python",
   "pygments_lexer": "ipython3",
   "version": "3.8.12 (default, Dec 20 2022, 21:33:07) \n[GCC 11.3.0]"
  },
  "orig_nbformat": 4,
  "vscode": {
   "interpreter": {
    "hash": "f29be12947edb0fb12a85f03ec93c6b19442e375d04585e5cfb5d674835b1a2c"
   }
  }
 },
 "nbformat": 4,
 "nbformat_minor": 2
}
