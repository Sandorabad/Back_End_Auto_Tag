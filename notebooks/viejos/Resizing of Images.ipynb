{
 "cells": [
  {
   "cell_type": "markdown",
   "id": "fcd636bb",
   "metadata": {},
   "source": [
    "## Resizing of Images "
   ]
  },
  {
   "cell_type": "code",
   "execution_count": 1,
   "id": "8d627b62",
   "metadata": {},
   "outputs": [],
   "source": [
    "## We will take the images of one folder and resize them"
   ]
  },
  {
   "cell_type": "code",
   "execution_count": 1,
   "id": "3b5ac43b",
   "metadata": {},
   "outputs": [],
   "source": [
    "from PIL import Image\n",
    "import os"
   ]
  },
  {
   "cell_type": "code",
   "execution_count": 5,
   "id": "c1572a9d",
   "metadata": {},
   "outputs": [],
   "source": [
    "original_folder = '/home/vvdiaz1/code/vvdiaz1/automatic_tagging/raw_data/images'"
   ]
  },
  {
   "cell_type": "code",
   "execution_count": 6,
   "id": "abffa15c",
   "metadata": {},
   "outputs": [],
   "source": [
    "resized_folder = '/home/vvdiaz1/code/vvdiaz1/automatic_tagging/raw_data/resized_images'"
   ]
  },
  {
   "cell_type": "code",
   "execution_count": 7,
   "id": "f43cf4f1",
   "metadata": {},
   "outputs": [],
   "source": [
    "width = 360\n",
    "height = 480"
   ]
  },
  {
   "cell_type": "code",
   "execution_count": 9,
   "id": "07f2c0d2",
   "metadata": {},
   "outputs": [],
   "source": [
    "# Iterate through all of the files in the original folder\n",
    "for filename in os.listdir(original_folder):\n",
    "    # Open the image file\n",
    "    img = Image.open(os.path.join(original_folder, filename))\n",
    "\n",
    "    # Resize the image\n",
    "    img = img.resize((width, height))\n",
    "\n",
    "    # Save the resized image in the resized folder\n",
    "    img.save(os.path.join(resized_folder, filename))"
   ]
  },
  {
   "cell_type": "code",
   "execution_count": null,
   "id": "04c10d91",
   "metadata": {},
   "outputs": [],
   "source": []
  }
 ],
 "metadata": {
  "kernelspec": {
   "display_name": "automatic-tagging",
   "language": "python",
   "name": "python3"
  },
  "language_info": {
   "codemirror_mode": {
    "name": "ipython",
    "version": 3
   },
   "file_extension": ".py",
   "mimetype": "text/x-python",
   "name": "python",
   "nbconvert_exporter": "python",
   "pygments_lexer": "ipython3",
   "version": "3.8.12 (default, Dec 20 2022, 21:33:07) \n[GCC 11.3.0]"
  },
  "toc": {
   "base_numbering": 1,
   "nav_menu": {},
   "number_sections": true,
   "sideBar": true,
   "skip_h1_title": false,
   "title_cell": "Table of Contents",
   "title_sidebar": "Contents",
   "toc_cell": false,
   "toc_position": {},
   "toc_section_display": true,
   "toc_window_display": false
  },
  "vscode": {
   "interpreter": {
    "hash": "f29be12947edb0fb12a85f03ec93c6b19442e375d04585e5cfb5d674835b1a2c"
   }
  }
 },
 "nbformat": 4,
 "nbformat_minor": 5
}
