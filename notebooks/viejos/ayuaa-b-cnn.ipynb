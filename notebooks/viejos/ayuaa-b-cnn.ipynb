{
 "cells": [
  {
   "cell_type": "code",
   "execution_count": 40,
   "metadata": {},
   "outputs": [],
   "source": [
    "#tipicas\n",
    "import pandas as pd\n",
    "import numpy as np\n",
    "\n",
    "#para la creacion de carpetas\n",
    "import os\n",
    "import shutil\n",
    "\n",
    "#para el test-train split\n",
    "import splitfolders #(necesita pip install split-folders)\n",
    "\n",
    "#datagen\n",
    "from keras.preprocessing.image import ImageDataGenerator\n",
    "\n",
    "#modelos\n",
    "from tensorflow.keras import Sequential, layers, models\n",
    "from tensorflow.keras.callbacks import EarlyStopping"
   ]
  },
  {
   "cell_type": "code",
   "execution_count": 41,
   "metadata": {},
   "outputs": [
    {
     "name": "stderr",
     "output_type": "stream",
     "text": [
      "/tmp/ipykernel_26856/3561016237.py:3: FutureWarning: The error_bad_lines argument has been deprecated and will be removed in a future version. Use on_bad_lines in the future.\n",
      "\n",
      "\n",
      "  df_styles = pd.read_csv(path_csv, error_bad_lines = False)\n"
     ]
    }
   ],
   "source": [
    "#importamos el df con las labels\n",
    "path_csv = \"/home/vvdiaz1/code/vvdiaz1/automatic_tagging/raw_data/df1.csv\"\n",
    "df_styles = pd.read_csv(path_csv, error_bad_lines = False)"
   ]
  },
  {
   "cell_type": "code",
   "execution_count": 42,
   "metadata": {},
   "outputs": [],
   "source": [
    "#guardamos la lista de las labels\n",
    "labels_y1 = np.unique(df_styles.masterCategory).tolist()\n",
    "labels_y2 = np.unique(df_styles.subCategory).tolist()\n",
    "labels_y3 = np.unique(df_styles.articleType).tolist()\n",
    "\n",
    "#guardamos la lista de los ids \n",
    "list_id = list(df_styles.id)"
   ]
  },
  {
   "cell_type": "code",
   "execution_count": 43,
   "metadata": {},
   "outputs": [],
   "source": [
    "#en files guardamos los path a cada foto en files y el nombre con .jpg en images\n",
    "images = []\n",
    "for file in list_id:\n",
    "    images.append(str(file) + \".jpg\")\n",
    "    \n",
    "path_img = \"/home/vvdiaz1/code/vvdiaz1/automatic_tagging/raw_data/df1\"\n",
    "files = []\n",
    "for i in images:\n",
    "    files.append((os.path.join(path_img, i)))"
   ]
  },
  {
   "cell_type": "code",
   "execution_count": 44,
   "metadata": {},
   "outputs": [
    {
     "name": "stderr",
     "output_type": "stream",
     "text": [
      "/tmp/ipykernel_26856/1815573249.py:1: FutureWarning: In a future version of pandas all arguments of DataFrame.drop except for the argument 'labels' will be keyword-only.\n",
      "  df = df_styles.drop(df_styles.columns.difference(['id', 'masterCategory','subCategory','articleType']),1)\n"
     ]
    }
   ],
   "source": [
    "df = df_styles.drop(df_styles.columns.difference(['id', 'masterCategory','subCategory','articleType']),1)\n",
    "df['name'] = images"
   ]
  },
  {
   "cell_type": "code",
   "execution_count": 45,
   "metadata": {},
   "outputs": [],
   "source": [
    "#clases por nivel\n",
    "class_names_y1 = np.unique(df_styles.masterCategory).tolist()\n",
    "class_names_y2 = np.unique(df_styles.subCategory).tolist()\n",
    "class_names_y3 = np.unique(df_styles.articleType).tolist()"
   ]
  },
  {
   "cell_type": "code",
   "execution_count": 46,
   "metadata": {},
   "outputs": [],
   "source": [
    "class_names_y21 = np.unique(df_styles[df_styles['masterCategory'] == class_names_y1[0]].subCategory).tolist()\n",
    "class_names_y22 = np.unique(df_styles[df_styles['masterCategory'] == class_names_y1[1]].subCategory).tolist()\n",
    "class_names_y23 = np.unique(df_styles[df_styles['masterCategory'] == class_names_y1[2]].subCategory).tolist()\n",
    "class_names_y24 = np.unique(df_styles[df_styles['masterCategory'] == class_names_y1[3]].subCategory).tolist()\n",
    "class_names_y25 = np.unique(df_styles[df_styles['masterCategory'] == class_names_y1[4]].subCategory).tolist()\n",
    "class_names_y26 = np.unique(df_styles[df_styles['masterCategory'] == class_names_y1[5]].subCategory).tolist()\n",
    "class_names_y27 = np.unique(df_styles[df_styles['masterCategory'] == class_names_y1[6]].subCategory).tolist()"
   ]
  },
  {
   "cell_type": "code",
   "execution_count": 29,
   "metadata": {},
   "outputs": [],
   "source": [
    "#primera capa de carpetas\n",
    "for i in class_names_y1:\n",
    "    os.makedirs(os.path.join(\"/home/vvdiaz1/code/vvdiaz1/automatic_tagging/raw_data/data2\",i))"
   ]
  },
  {
   "cell_type": "code",
   "execution_count": 30,
   "metadata": {},
   "outputs": [],
   "source": [
    "#segunda capa de carpetas\n",
    "for i in class_names_y21:\n",
    "    os.makedirs(os.path.join(f'/home/vvdiaz1/code/vvdiaz1/automatic_tagging/raw_data/data2/{class_names_y1[0]}/',i))\n",
    "\n",
    "for i in class_names_y22:\n",
    "    os.makedirs(os.path.join(f'/home/vvdiaz1/code/vvdiaz1/automatic_tagging/raw_data/data2/{class_names_y1[1]}/',i))\n",
    "    \n",
    "for i in class_names_y23:\n",
    "    os.makedirs(os.path.join(f'/home/vvdiaz1/code/vvdiaz1/automatic_tagging/raw_data/data2/{class_names_y1[2]}/',i))\n",
    "    \n",
    "for i in class_names_y24:\n",
    "    os.makedirs(os.path.join(f'/home/vvdiaz1/code/vvdiaz1/automatic_tagging/raw_data/data2/{class_names_y1[3]}/',i))\n",
    "    \n",
    "for i in class_names_y25:\n",
    "    os.makedirs(os.path.join(f'/home/vvdiaz1/code/vvdiaz1/automatic_tagging/raw_data/data2/{class_names_y1[4]}/',i))\n",
    "\n",
    "for i in class_names_y26:\n",
    "    os.makedirs(os.path.join(f'/home/vvdiaz1/code/vvdiaz1/automatic_tagging/raw_data/data2/{class_names_y1[5]}/',i))\n",
    "    \n",
    "for i in class_names_y27:\n",
    "    os.makedirs(os.path.join(f'/home/vvdiaz1/code/vvdiaz1/automatic_tagging/raw_data/data2/{class_names_y1[6]}/',i))"
   ]
  },
  {
   "attachments": {},
   "cell_type": "markdown",
   "metadata": {},
   "source": [
    "### mueve fotos de accessories"
   ]
  },
  {
   "cell_type": "code",
   "execution_count": 31,
   "metadata": {},
   "outputs": [],
   "source": [
    "for i in class_names_y21:     # I ->  class label names\n",
    "    for c in list(df[df['subCategory']== i]['name']):    # c  ->  individual image \n",
    "    # Creating path to the image\n",
    "        get_image = os.path.join(\"/home/vvdiaz1/code/vvdiaz1/automatic_tagging/raw_data/df1\",c)\n",
    "        if not os.path.exists(\"/home/vvdiaz1/code/vvdiaz1/automatic_tagging/raw_data/data2/Accessories/\"+i+\"/\"+c):\n",
    "            move = shutil.copy(get_image,\"/home/vvdiaz1/code/vvdiaz1/automatic_tagging/raw_data/data2/Accessories/\"+i)"
   ]
  },
  {
   "attachments": {},
   "cell_type": "markdown",
   "metadata": {},
   "source": [
    "### mueve fotos de apparel"
   ]
  },
  {
   "cell_type": "code",
   "execution_count": 32,
   "metadata": {},
   "outputs": [],
   "source": [
    "for i in class_names_y22:     # I ->  class label names\n",
    "    for c in list(df[df['subCategory']== i]['name']):    # c  ->  individual image \n",
    "    # Creating path to the image\n",
    "        get_image = os.path.join(\"/home/vvdiaz1/code/vvdiaz1/automatic_tagging/raw_data/df1\",c)\n",
    "        if not os.path.exists(\"/home/vvdiaz1/code/vvdiaz1/automatic_tagging/raw_data/data2/Apparel/\"+i+\"/\"+c):\n",
    "            move = shutil.copy(get_image,\"/home/vvdiaz1/code/vvdiaz1/automatic_tagging/raw_data/data2/Apparel/\"+i)"
   ]
  },
  {
   "attachments": {},
   "cell_type": "markdown",
   "metadata": {},
   "source": [
    "### mueve fotos de Footwear"
   ]
  },
  {
   "cell_type": "code",
   "execution_count": 33,
   "metadata": {},
   "outputs": [],
   "source": [
    "for i in class_names_y23:     # I ->  class label names\n",
    "    for c in list(df[df['subCategory']== i]['name']):    # c  ->  individual image \n",
    "    # Creating path to the image\n",
    "        get_image = os.path.join(\"/home/vvdiaz1/code/vvdiaz1/automatic_tagging/raw_data/df1\",c)\n",
    "        if not os.path.exists(\"/home/vvdiaz1/code/vvdiaz1/automatic_tagging/raw_data/data2/Footwear/\"+i+\"/\"+c):\n",
    "            move = shutil.copy(get_image,\"/home/vvdiaz1/code/vvdiaz1/automatic_tagging/raw_data/data2/Footwear/\"+i)"
   ]
  },
  {
   "attachments": {},
   "cell_type": "markdown",
   "metadata": {},
   "source": [
    "### mueve fotos de Free Items"
   ]
  },
  {
   "cell_type": "code",
   "execution_count": 34,
   "metadata": {},
   "outputs": [],
   "source": [
    "for i in class_names_y24:     # I ->  class label names\n",
    "    for c in list(df[df['subCategory']== i]['name']):    # c  ->  individual image \n",
    "    # Creating path to the image\n",
    "        get_image = os.path.join(\"/home/vvdiaz1/code/vvdiaz1/automatic_tagging/raw_data/df1\",c)\n",
    "        if not os.path.exists(\"/home/vvdiaz1/code/vvdiaz1/automatic_tagging/raw_data/data2/Free Items/\"+i+\"/\"+c):\n",
    "            move = shutil.copy(get_image,\"/home/vvdiaz1/code/vvdiaz1/automatic_tagging/raw_data/data2/Free Items/\"+i)"
   ]
  },
  {
   "attachments": {},
   "cell_type": "markdown",
   "metadata": {},
   "source": [
    "### mueve fotos de Home"
   ]
  },
  {
   "cell_type": "code",
   "execution_count": 35,
   "metadata": {},
   "outputs": [],
   "source": [
    "for i in class_names_y25:     # I ->  class label names\n",
    "    for c in list(df[df['subCategory']== i]['name']):    # c  ->  individual image \n",
    "    # Creating path to the image\n",
    "        get_image = os.path.join(\"/home/vvdiaz1/code/vvdiaz1/automatic_tagging/raw_data/df1\",c)\n",
    "        if not os.path.exists(\"/home/vvdiaz1/code/vvdiaz1/automatic_tagging/raw_data/data2/Home/\"+i+\"/\"+c):\n",
    "            move = shutil.copy(get_image,\"/home/vvdiaz1/code/vvdiaz1/automatic_tagging/raw_data/data2/Home/\"+i)"
   ]
  },
  {
   "attachments": {},
   "cell_type": "markdown",
   "metadata": {},
   "source": [
    "### mueve fotos de Personal Care"
   ]
  },
  {
   "cell_type": "code",
   "execution_count": 36,
   "metadata": {},
   "outputs": [],
   "source": [
    "for i in class_names_y26:     # I ->  class label names\n",
    "    for c in list(df[df['subCategory']== i]['name']):    # c  ->  individual image \n",
    "    # Creating path to the image\n",
    "        get_image = os.path.join(\"/home/vvdiaz1/code/vvdiaz1/automatic_tagging/raw_data/df1\",c)\n",
    "        if not os.path.exists(\"/home/vvdiaz1/code/vvdiaz1/automatic_tagging/raw_data/data2/Personal Care/\"+i+\"/\"+c):\n",
    "            move = shutil.copy(get_image,\"/home/vvdiaz1/code/vvdiaz1/automatic_tagging/raw_data/data2/Personal Care/\"+i)"
   ]
  },
  {
   "attachments": {},
   "cell_type": "markdown",
   "metadata": {},
   "source": [
    "### mueve fotos de Sporting Goods"
   ]
  },
  {
   "cell_type": "code",
   "execution_count": 37,
   "metadata": {},
   "outputs": [],
   "source": [
    "for i in class_names_y27:     # I ->  class label names\n",
    "    for c in list(df[df['subCategory']== i]['name']):    # c  ->  individual image \n",
    "    # Creating path to the image\n",
    "        get_image = os.path.join(\"/home/vvdiaz1/code/vvdiaz1/automatic_tagging/raw_data/df1\",c)\n",
    "        if not os.path.exists(\"/home/vvdiaz1/code/vvdiaz1/automatic_tagging/raw_data/data2/Sporting Goods/\"+i+\"/\"+c):\n",
    "            move = shutil.copy(get_image,\"/home/vvdiaz1/code/vvdiaz1/automatic_tagging/raw_data/data2/Sporting Goods/\"+i)"
   ]
  },
  {
   "attachments": {},
   "cell_type": "markdown",
   "metadata": {},
   "source": [
    "### ahora spliteamos en carpetas"
   ]
  },
  {
   "cell_type": "code",
   "execution_count": 48,
   "metadata": {},
   "outputs": [],
   "source": [
    "for i in class_names_y1:\n",
    "    input_folder2 = \"/home/vvdiaz1/code/vvdiaz1/automatic_tagging/raw_data/data2/\" + i\n",
    "    output_folder2 = \"/home/vvdiaz1/code/vvdiaz1/automatic_tagging/raw_data/split2/\"+i\n",
    "\n",
    "    splitfolders.ratio(input_folder2, output=output_folder2,\n",
    "                        seed=42,\n",
    "                        ratio=(.7, .2, .1), #usamos 70% train, 20% val, 10% test \n",
    "                        group_prefix=None)"
   ]
  }
 ],
 "metadata": {
  "kernelspec": {
   "display_name": "Python 3",
   "language": "python",
   "name": "python3"
  },
  "language_info": {
   "codemirror_mode": {
    "name": "ipython",
    "version": 3
   },
   "file_extension": ".py",
   "mimetype": "text/x-python",
   "name": "python",
   "nbconvert_exporter": "python",
   "pygments_lexer": "ipython3",
   "version": "3.10.6 (main, Nov 14 2022, 14:31:41) [GCC 11.3.0]"
  },
  "orig_nbformat": 4,
  "vscode": {
   "interpreter": {
    "hash": "b766fd3b13a0d26155c4f537c73e84d8eae09f0b10c7fe7a8fb4eec6202f4718"
   }
  }
 },
 "nbformat": 4,
 "nbformat_minor": 2
}
