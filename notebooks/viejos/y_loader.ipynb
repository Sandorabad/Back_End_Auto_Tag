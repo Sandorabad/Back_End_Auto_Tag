{
 "cells": [
  {
   "cell_type": "code",
   "execution_count": 1,
   "metadata": {},
   "outputs": [
    {
     "name": "stderr",
     "output_type": "stream",
     "text": [
      "2023-01-17 20:17:35.435473: I tensorflow/core/platform/cpu_feature_guard.cc:193] This TensorFlow binary is optimized with oneAPI Deep Neural Network Library (oneDNN) to use the following CPU instructions in performance-critical operations:  AVX2 FMA\n",
      "To enable them in other operations, rebuild TensorFlow with the appropriate compiler flags.\n",
      "2023-01-17 20:17:36.493801: W tensorflow/compiler/xla/stream_executor/platform/default/dso_loader.cc:64] Could not load dynamic library 'libcudart.so.11.0'; dlerror: libcudart.so.11.0: cannot open shared object file: No such file or directory\n",
      "2023-01-17 20:17:36.493884: I tensorflow/compiler/xla/stream_executor/cuda/cudart_stub.cc:29] Ignore above cudart dlerror if you do not have a GPU set up on your machine.\n",
      "2023-01-17 20:17:41.006397: W tensorflow/compiler/xla/stream_executor/platform/default/dso_loader.cc:64] Could not load dynamic library 'libnvinfer.so.7'; dlerror: libnvinfer.so.7: cannot open shared object file: No such file or directory\n",
      "2023-01-17 20:17:41.006729: W tensorflow/compiler/xla/stream_executor/platform/default/dso_loader.cc:64] Could not load dynamic library 'libnvinfer_plugin.so.7'; dlerror: libnvinfer_plugin.so.7: cannot open shared object file: No such file or directory\n",
      "2023-01-17 20:17:41.006742: W tensorflow/compiler/tf2tensorrt/utils/py_utils.cc:38] TF-TRT Warning: Cannot dlopen some TensorRT libraries. If you would like to use Nvidia GPU with TensorRT, please make sure the missing libraries mentioned above are installed properly.\n"
     ]
    }
   ],
   "source": [
    "#librerias\n",
    "import numpy as np \n",
    "import pandas as pd \n",
    "import tensorflow as tf\n",
    "import keras\n",
    "import warnings\n",
    "warnings.filterwarnings('ignore')\n",
    "from tensorflow.keras.utils import to_categorical\n",
    "\n",
    "import os\n",
    "from skimage.io import imread\n",
    "import matplotlib.pyplot as plt\n",
    "from PIL import Image"
   ]
  },
  {
   "cell_type": "code",
   "execution_count": 3,
   "metadata": {},
   "outputs": [],
   "source": [
    "#paths\n",
    "original_folder = '/home/vvdiaz1/code/vvdiaz1/automatic_tagging/raw_data/images'\n",
    "resized_folder = '/home/vvdiaz1/code/vvdiaz1/automatic_tagging/raw_data/resized_images'\n",
    "path_filtered_styles_csv = \"/home/vvdiaz1/code/vvdiaz1/automatic_tagging/raw_data/filtered_styles.csv\"\n",
    "path_csv = \"/home/vvdiaz1/code/vvdiaz1/automatic_tagging/raw_data/styles.csv\""
   ]
  },
  {
   "cell_type": "code",
   "execution_count": 11,
   "metadata": {},
   "outputs": [],
   "source": [
    "#primero traemos el csv con las categorias de cada foto\n",
    "#con error_bad_lines omitimos alguna linea con problemas como la 6044 que tiene una coma en el str de productDisplayName\n",
    "df_styles = pd.read_csv(path_filtered_styles_csv,error_bad_lines=False)"
   ]
  },
  {
   "cell_type": "code",
   "execution_count": 12,
   "metadata": {},
   "outputs": [
    {
     "data": {
      "text/plain": [
       "45"
      ]
     },
     "execution_count": 12,
     "metadata": {},
     "output_type": "execute_result"
    }
   ],
   "source": [
    "len(np.unique(df_styles.subCategory))"
   ]
  },
  {
   "cell_type": "code",
   "execution_count": 13,
   "metadata": {},
   "outputs": [
    {
     "name": "stdout",
     "output_type": "stream",
     "text": [
      "Categories:  ['Accessories', 'Apparel', 'Footwear', 'Free Items', 'Home', 'Personal Care', 'Sporting Goods']\n",
      "Number of categories:  7\n",
      "True\n"
     ]
    }
   ],
   "source": [
    "#para el modelo 1 estas son las labels = masterCategory\n",
    "labels1 = np.unique(df_styles.masterCategory).tolist()\n",
    "num_cat1 = len(labels1)\n",
    "print('Categories: ',labels1)\n",
    "print('Number of categories: ', num_cat1)\n",
    "\n",
    "#definimos y como el masterCategory y luego los convertimos a int para usar to_categorical\n",
    "y1 = df_styles[['masterCategory']]\n",
    "y1.masterCategory =pd.Categorical(y1.masterCategory)\n",
    "y1_num = y1.masterCategory.cat.codes\n",
    "y1_cat = to_categorical(y1_num,num_cat1)\n",
    "\n",
    "#revisamos\n",
    "print(len(y1_cat[0]) == num_cat1)"
   ]
  },
  {
   "cell_type": "code",
   "execution_count": 14,
   "metadata": {},
   "outputs": [
    {
     "name": "stdout",
     "output_type": "stream",
     "text": [
      "['Accessories', 'Bags', 'Belts', 'Cufflinks', 'Eyewear', 'Gloves', 'Headwear', 'Jewellery', 'Mufflers', 'Perfumes', 'Scarves', 'Shoe Accessories', 'Socks', 'Sports Accessories', 'Stoles', 'Ties', 'Umbrellas', 'Wallets', 'Watches', 'Water Bottle']\n",
      "Number of categories:  20\n",
      "True\n"
     ]
    }
   ],
   "source": [
    "#para el modelo 2 estas son las labels = subCategory cuando masterCategory = Accessories\n",
    "labels2 = np.unique(df_styles[df_styles['masterCategory'] == labels1[0]].subCategory).tolist()\n",
    "num_cat2 = len(labels2)\n",
    "print(labels2)\n",
    "print('Number of categories: ', num_cat2)\n",
    "\n",
    "#definimos y como el subcategory que corresponde al masterCategory \n",
    "y2 = df_styles[df_styles['masterCategory'] == labels1[0]][['subCategory']]\n",
    "y2.subCategory = pd.Categorical(y2.subCategory)\n",
    "y2_cat = to_categorical(y2.subCategory.cat.codes,len(labels2))\n",
    "# #revisamos\n",
    "print(len(y2_cat[0]) == num_cat2)"
   ]
  },
  {
   "cell_type": "code",
   "execution_count": 15,
   "metadata": {},
   "outputs": [
    {
     "name": "stdout",
     "output_type": "stream",
     "text": [
      "['Apparel Set', 'Bottomwear', 'Dress', 'Innerwear', 'Loungewear and Nightwear', 'Saree', 'Socks', 'Topwear']\n",
      "Number of categories:  8\n",
      "True\n"
     ]
    }
   ],
   "source": [
    "#para el modelo 3\n",
    "labels3 = np.unique(df_styles[df_styles['masterCategory'] == labels1[1]].subCategory).tolist()\n",
    "num_cat3 = len(labels3)\n",
    "print(labels3)\n",
    "print('Number of categories: ', num_cat3)\n",
    "\n",
    "#definimos y como el subcategory que corresponde al masterCategory \n",
    "y3 = df_styles[df_styles['masterCategory'] == labels1[1]][['subCategory']]\n",
    "y3.subCategory = pd.Categorical(y3.subCategory)\n",
    "y3_cat = to_categorical(y3.subCategory.cat.codes,len(labels3))\n",
    "# #revisamos\n",
    "print(len(y3_cat[0]) == num_cat3)"
   ]
  },
  {
   "cell_type": "code",
   "execution_count": 16,
   "metadata": {},
   "outputs": [
    {
     "name": "stdout",
     "output_type": "stream",
     "text": [
      "['Flip Flops', 'Sandal', 'Shoes']\n",
      "Number of categories:  3\n",
      "True\n"
     ]
    }
   ],
   "source": [
    "#para el modelo 4\n",
    "labels4 = np.unique(df_styles[df_styles['masterCategory'] == labels1[2]].subCategory).tolist()\n",
    "num_cat4 = len(labels4)\n",
    "print(labels4)\n",
    "print('Number of categories: ', num_cat4)\n",
    "\n",
    "#definimos y como el subcategory que corresponde al masterCategory \n",
    "y4= df_styles[df_styles['masterCategory'] == labels1[2]][['subCategory']]\n",
    "y4.subCategory = pd.Categorical(y4.subCategory)\n",
    "y4_cat = to_categorical(y4.subCategory.cat.codes,len(labels4))\n",
    "# #revisamos\n",
    "print(len(y4_cat[0]) == num_cat4)"
   ]
  },
  {
   "cell_type": "code",
   "execution_count": 17,
   "metadata": {},
   "outputs": [
    {
     "name": "stdout",
     "output_type": "stream",
     "text": [
      "['Free Gifts', 'Vouchers']\n",
      "Number of categories:  2\n",
      "True\n"
     ]
    }
   ],
   "source": [
    "#para el modelo 5\n",
    "labels5 = np.unique(df_styles[df_styles['masterCategory'] == labels1[3]].subCategory).tolist()\n",
    "num_cat5 = len(labels5)\n",
    "print(labels5)\n",
    "print('Number of categories: ', num_cat5)\n",
    "\n",
    "#definimos y como el subcategory que corresponde al masterCategory \n",
    "y5= df_styles[df_styles['masterCategory'] == labels1[3]][['subCategory']]\n",
    "y5.subCategory = pd.Categorical(y5.subCategory)\n",
    "y5_cat = to_categorical(y5.subCategory.cat.codes,len(labels5))\n",
    "# #revisamos\n",
    "print(len(y5_cat[0]) == num_cat5)"
   ]
  },
  {
   "cell_type": "code",
   "execution_count": 18,
   "metadata": {},
   "outputs": [
    {
     "name": "stdout",
     "output_type": "stream",
     "text": [
      "['Home Furnishing']\n",
      "Number of categories:  1\n",
      "True\n"
     ]
    }
   ],
   "source": [
    "#para el modelo 6\n",
    "labels6 = np.unique(df_styles[df_styles['masterCategory'] == labels1[4]].subCategory).tolist()\n",
    "num_cat6 = len(labels6)\n",
    "print(labels6)\n",
    "print('Number of categories: ', num_cat6)\n",
    "\n",
    "#definimos y como el subcategory que corresponde al masterCategory \n",
    "y6= df_styles[df_styles['masterCategory'] == labels1[4]][['subCategory']]\n",
    "y6.subCategory = pd.Categorical(y6.subCategory)\n",
    "y6_cat = to_categorical(y6.subCategory.cat.codes,len(labels6))\n",
    "# #revisamos\n",
    "print(len(y6_cat[0]) == num_cat6)"
   ]
  },
  {
   "cell_type": "code",
   "execution_count": 19,
   "metadata": {},
   "outputs": [
    {
     "name": "stdout",
     "output_type": "stream",
     "text": [
      "['Bath and Body', 'Beauty Accessories', 'Eyes', 'Fragrance', 'Hair', 'Lips', 'Makeup', 'Nails', 'Perfumes', 'Skin', 'Skin Care']\n",
      "Number of categories:  11\n",
      "True\n"
     ]
    }
   ],
   "source": [
    "#para el modelo 7\n",
    "labels7 = np.unique(df_styles[df_styles['masterCategory'] == labels1[5]].subCategory).tolist()\n",
    "num_cat7 = len(labels7)\n",
    "print(labels7)\n",
    "print('Number of categories: ', num_cat7)\n",
    "\n",
    "#definimos y como el subcategory que corresponde al masterCategory \n",
    "y7= df_styles[df_styles['masterCategory'] == labels1[5]][['subCategory']]\n",
    "y7.subCategory = pd.Categorical(y7.subCategory)\n",
    "y7_cat = to_categorical(y7.subCategory.cat.codes,len(labels7))\n",
    "# #revisamos\n",
    "print(len(y7_cat[0]) == num_cat7)"
   ]
  },
  {
   "cell_type": "code",
   "execution_count": 1,
   "metadata": {},
   "outputs": [
    {
     "ename": "NameError",
     "evalue": "name 'np' is not defined",
     "output_type": "error",
     "traceback": [
      "\u001b[0;31m---------------------------------------------------------------------------\u001b[0m",
      "\u001b[0;31mNameError\u001b[0m                                 Traceback (most recent call last)",
      "Cell \u001b[0;32mIn[1], line 2\u001b[0m\n\u001b[1;32m      1\u001b[0m \u001b[39m#para el modelo 8\u001b[39;00m\n\u001b[0;32m----> 2\u001b[0m labels8 \u001b[39m=\u001b[39m np\u001b[39m.\u001b[39munique(df_styles[df_styles[\u001b[39m'\u001b[39m\u001b[39mmasterCategory\u001b[39m\u001b[39m'\u001b[39m] \u001b[39m==\u001b[39m labels1[\u001b[39m6\u001b[39m]]\u001b[39m.\u001b[39msubCategory)\u001b[39m.\u001b[39mtolist()\n\u001b[1;32m      3\u001b[0m num_cat8 \u001b[39m=\u001b[39m \u001b[39mlen\u001b[39m(labels8)\n\u001b[1;32m      4\u001b[0m \u001b[39mprint\u001b[39m(labels8)\n",
      "\u001b[0;31mNameError\u001b[0m: name 'np' is not defined"
     ]
    }
   ],
   "source": [
    "#para el modelo 8\n",
    "labels8 = np.unique(df_styles[df_styles['masterCategory'] == labels1[6]].subCategory).tolist()\n",
    "num_cat8 = len(labels8)\n",
    "print(labels8)\n",
    "print('Number of categories: ', num_cat8)\n",
    "\n",
    "#definimos y como el subcategory que corresponde al masterCategory \n",
    "y8= df_styles[df_styles['masterCategory'] == labels1[6]][['subCategory']]\n",
    "y8.subCategory = pd.Categorical(y8.subCategory)\n",
    "y8_cat = to_categorical(y8.subCategory.cat.codes,len(labels8))\n",
    "# #revisamos\n",
    "print(len(y8_cat[0]) == num_cat8)"
   ]
  },
  {
   "cell_type": "code",
   "execution_count": 22,
   "metadata": {},
   "outputs": [],
   "source": [
    "#para el b-cnn\n",
    "y_c1 = df_styles.masterCategory.to_numpy()\n",
    "y_c2 = df_styles.subCategory.to_numpy()\n",
    "y_c3 = df_styles.articleType.to_numpy()"
   ]
  },
  {
   "cell_type": "code",
   "execution_count": 5,
   "metadata": {},
   "outputs": [
    {
     "name": "stderr",
     "output_type": "stream",
     "text": [
      "Skipping line 6044: expected 10 fields, saw 11\n",
      "Skipping line 6569: expected 10 fields, saw 11\n",
      "Skipping line 7399: expected 10 fields, saw 11\n",
      "Skipping line 7939: expected 10 fields, saw 11\n",
      "Skipping line 9026: expected 10 fields, saw 11\n",
      "Skipping line 10264: expected 10 fields, saw 11\n",
      "Skipping line 10427: expected 10 fields, saw 11\n",
      "Skipping line 10905: expected 10 fields, saw 11\n",
      "Skipping line 11373: expected 10 fields, saw 11\n",
      "Skipping line 11945: expected 10 fields, saw 11\n",
      "Skipping line 14112: expected 10 fields, saw 11\n",
      "Skipping line 14532: expected 10 fields, saw 11\n",
      "Skipping line 15076: expected 10 fields, saw 12\n",
      "Skipping line 29906: expected 10 fields, saw 11\n",
      "Skipping line 31625: expected 10 fields, saw 11\n",
      "Skipping line 33020: expected 10 fields, saw 11\n",
      "Skipping line 35748: expected 10 fields, saw 11\n",
      "Skipping line 35962: expected 10 fields, saw 11\n",
      "Skipping line 37770: expected 10 fields, saw 11\n",
      "Skipping line 38105: expected 10 fields, saw 11\n",
      "Skipping line 38275: expected 10 fields, saw 11\n",
      "Skipping line 38404: expected 10 fields, saw 12\n",
      "\n"
     ]
    }
   ],
   "source": [
    "df = pd.read_csv(path_csv, error_bad_lines=False)"
   ]
  },
  {
   "cell_type": "code",
   "execution_count": 18,
   "metadata": {},
   "outputs": [
    {
     "data": {
      "text/plain": [
       "masterCategory\n",
       "Apparel           21397\n",
       "Accessories       11274\n",
       "Footwear           9219\n",
       "Personal Care      2403\n",
       "Free Items          105\n",
       "Sporting Goods       25\n",
       "Home                  1\n",
       "Name: id, dtype: int64"
      ]
     },
     "execution_count": 18,
     "metadata": {},
     "output_type": "execute_result"
    }
   ],
   "source": [
    "df.groupby('masterCategory').count().sort_values('id', ascending = False).id"
   ]
  },
  {
   "cell_type": "code",
   "execution_count": null,
   "metadata": {},
   "outputs": [],
   "source": []
  }
 ],
 "metadata": {
  "kernelspec": {
   "display_name": "automatic-tagging",
   "language": "python",
   "name": "python3"
  },
  "language_info": {
   "codemirror_mode": {
    "name": "ipython",
    "version": 3
   },
   "file_extension": ".py",
   "mimetype": "text/x-python",
   "name": "python",
   "nbconvert_exporter": "python",
   "pygments_lexer": "ipython3",
   "version": "3.8.12 (default, Dec 20 2022, 21:33:07) \n[GCC 11.3.0]"
  },
  "orig_nbformat": 4,
  "vscode": {
   "interpreter": {
    "hash": "f29be12947edb0fb12a85f03ec93c6b19442e375d04585e5cfb5d674835b1a2c"
   }
  }
 },
 "nbformat": 4,
 "nbformat_minor": 2
}
