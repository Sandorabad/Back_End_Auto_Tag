{
 "cells": [
  {
   "cell_type": "code",
   "execution_count": 2,
   "metadata": {},
   "outputs": [],
   "source": [
    "from tensorflow.keras.layers.experimental.preprocessing import Rescaling\n",
    "from tensorflow.keras import Sequential, layers, models\n",
    "from tensorflow.keras.callbacks import EarlyStopping\n",
    "from tensorflow.keras.applications.vgg16 import VGG16\n",
    "from tensorflow.keras import optimizers"
   ]
  },
  {
   "cell_type": "code",
   "execution_count": null,
   "metadata": {},
   "outputs": [],
   "source": [
    "def load_own_model():\n",
    "  model = Sequential()\n",
    "  model.add(layers.Conv2D(16, kernel_size=10, activation='relu'))\n",
    "  model.add(layers.MaxPooling2D(3))\n",
    "\n",
    "  model.add(layers.Conv2D(32, kernel_size=8, activation=\"relu\"))\n",
    "  model.add(layers.MaxPooling2D(3))\n",
    "\n",
    "  model.add(layers.Conv2D(32, kernel_size=6, activation=\"relu\"))\n",
    "  model.add(layers.MaxPooling2D(3))\n",
    "\n",
    "  model.add(layers.Flatten())\n",
    "  model.add(layers.Dense(100, activation='relu'))\n",
    "  model.add(layers.Dense(7, activation='softmax'))\n",
    "\n",
    "  model.compile(loss = 'categorical_crossentropy', \n",
    "                optimizer = 'adam',\n",
    "                metrics = 'accuracy')\n",
    "  \n",
    "  return model"
   ]
  },
  {
   "cell_type": "code",
   "execution_count": null,
   "metadata": {},
   "outputs": [],
   "source": [
    "model = load_own_model()\n",
    "history = model.fit(X_train, y_train,validation_data = (X_val, y_val),\n",
    "                    batch_size = 32, epochs = 500,\n",
    "                    callbacks = EarlyStopping(patience = 20,restore_best_weights = True),\n",
    "                    verbose = 1)"
   ]
  },
  {
   "cell_type": "code",
   "execution_count": null,
   "metadata": {},
   "outputs": [],
   "source": [
    "res_1 = model.evaluate(X_test, y_test)"
   ]
  },
  {
   "cell_type": "code",
   "execution_count": 4,
   "metadata": {},
   "outputs": [],
   "source": [
    "def load_vgg16():\n",
    "  model = VGG16(include_top=False,input_shape=X_train.shape[1:])\n",
    "  return model\n",
    "model_vgg16 = load_vgg16()\n",
    "model_vgg16.summary()"
   ]
  },
  {
   "cell_type": "code",
   "execution_count": 5,
   "metadata": {},
   "outputs": [],
   "source": [
    "def set_nontrainable_layers(model):\n",
    "    model.trainable = False\n",
    "    return model"
   ]
  },
  {
   "cell_type": "code",
   "execution_count": 6,
   "metadata": {},
   "outputs": [],
   "source": [
    "def add_last_layers(model):\n",
    "    '''Take a pre-trained model, set its parameters as non-trainable, and add additional trainable layers on top'''\n",
    "    base_model = set_nontrainable_layers(model)\n",
    "    flattening_layer = layers.Flatten()\n",
    "    dense_layer = layers.Dense(500, activation='relu')\n",
    "    prediction_layer = layers.Dense(3, activation='softmax')\n",
    "\n",
    "    model = Sequential([base_model,\n",
    "                        flattening_layer,\n",
    "                        dense_layer,\n",
    "                        prediction_layer])\n",
    "    return model"
   ]
  },
  {
   "cell_type": "code",
   "execution_count": null,
   "metadata": {},
   "outputs": [],
   "source": []
  }
 ],
 "metadata": {
  "kernelspec": {
   "display_name": "automatic-tagging",
   "language": "python",
   "name": "python3"
  },
  "language_info": {
   "codemirror_mode": {
    "name": "ipython",
    "version": 3
   },
   "file_extension": ".py",
   "mimetype": "text/x-python",
   "name": "python",
   "nbconvert_exporter": "python",
   "pygments_lexer": "ipython3",
   "version": "3.8.12 (default, Dec 20 2022, 21:33:07) \n[GCC 11.3.0]"
  },
  "orig_nbformat": 4,
  "vscode": {
   "interpreter": {
    "hash": "f29be12947edb0fb12a85f03ec93c6b19442e375d04585e5cfb5d674835b1a2c"
   }
  }
 },
 "nbformat": 4,
 "nbformat_minor": 2
}
