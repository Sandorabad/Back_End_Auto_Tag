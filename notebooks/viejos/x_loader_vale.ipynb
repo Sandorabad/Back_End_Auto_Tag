{
 "cells": [
  {
   "cell_type": "code",
   "execution_count": null,
   "metadata": {},
   "outputs": [],
   "source": [
    "from PIL import Image\n",
    "import os\n",
    "import matplotlib.pyplot as plt\n",
    "import numpy as np\n",
    "import pandas as pd\n",
    "import keras\n",
    "from tensorflow.keras.utils import to_categorical\n",
    "# from tf.keras import vgg16\n",
    "from tensorflow.keras.utils import img_to_array, load_img\n",
    "from keras.applications.imagenet_utils import preprocess_input\n",
    "from keras.models import Model"
   ]
  },
  {
   "cell_type": "code",
   "execution_count": 12,
   "metadata": {},
   "outputs": [
    {
     "name": "stderr",
     "output_type": "stream",
     "text": [
      "/tmp/ipykernel_25774/750783420.py:14: FutureWarning: The error_bad_lines argument has been deprecated and will be removed in a future version. Use on_bad_lines in the future.\n",
      "\n",
      "\n",
      "  df_1= pd.read_csv(path_csv, error_bad_lines = False,nrows=5000)\n"
     ]
    }
   ],
   "source": [
    "from tensorflow.keras.preprocessing.image import ImageDataGenerator\n",
    "from tensorflow.keras.preprocessing import image\n",
    "# from tensorflow.keras.optimizer import RMSprop\n",
    "import matplotlib.pyplot as plt\n",
    "import tensorflow as tf\n",
    "import numpy as np\n",
    "import pandas as pd\n",
    "import cv2\n",
    "import os\n",
    "\n",
    "path_img = \"/home/vvdiaz1/code/vvdiaz1/automatic_tagging/raw_data/df1\"\n",
    "path_csv = \"/home/vvdiaz1/code/vvdiaz1/automatic_tagging/raw_data/df1.csv\"\n",
    "\n",
    "df_1= pd.read_csv(path_csv, error_bad_lines = False,nrows=5000)\n",
    "list_id = list(df_1.id)\n",
    "\n",
    "images = []\n",
    "for file in list_id:\n",
    "    images.append(str(file) + \".jpg\")\n",
    "files = []\n",
    "for i in images:\n",
    "    files.append((os.path.join(path_img, i)))"
   ]
  },
  {
   "cell_type": "code",
   "execution_count": 16,
   "metadata": {},
   "outputs": [],
   "source": [
    "img = image.load_img(files[0])\n",
    "# cv2.imread(files[0])"
   ]
  },
  {
   "cell_type": "code",
   "execution_count": 19,
   "metadata": {},
   "outputs": [],
   "source": [
    "gen = ImageDataGenerator(rescale = 1/255)"
   ]
  },
  {
   "cell_type": "code",
   "execution_count": 20,
   "metadata": {},
   "outputs": [
    {
     "name": "stdout",
     "output_type": "stream",
     "text": [
      "Found 0 images belonging to 0 classes.\n"
     ]
    }
   ],
   "source": [
    "X = gen.flow_from_directory(path_img + '/',\n",
    "                            target_size=(480,360),\n",
    "                            batch_size = 64,\n",
    "                            class_mode = 'categorical')"
   ]
  },
  {
   "attachments": {},
   "cell_type": "markdown",
   "metadata": {},
   "source": [
    "### load x de fede"
   ]
  },
  {
   "cell_type": "code",
   "execution_count": null,
   "metadata": {},
   "outputs": [],
   "source": [
    "## Loading the data\n",
    "path_images = \"/home/vvdiaz1/code/vvdiaz1/automatic_tagging/notebooks/df1\"\n",
    "path_csv = \"/home/vvdiaz1/code/vvdiaz1/automatic_tagging/raw_data/df1.csv\"\n",
    "## We load the df1 csv file into a Pandas Dataframe\n",
    "df_1= pd.read_csv(path_csv, error_bad_lines = False)\n",
    "\n",
    "## Now we have to create the filenames for each one of the images in the df1 folder\n",
    "list_id = list(df_1.id)\n",
    "images = []\n",
    "for file in list_id:\n",
    "    images.append(str(file) + \".jpg\")\n",
    "filenames = []\n",
    "for image in images:\n",
    "    filenames.append((os.path.join(path_images, image)))\n",
    "    \n",
    "batch_size = 128\n",
    "images = []\n",
    "\n",
    "for i in range(0, len(filenames), batch_size):\n",
    "    batch_filenames = filenames[i:i+batch_size]\n",
    "    images_batch = [np.array(Image.open(image_filename)) for image_filename in batch_filenames]\n",
    "    images.extend(images_batch)"
   ]
  },
  {
   "attachments": {},
   "cell_type": "markdown",
   "metadata": {},
   "source": [
    "### load x vale"
   ]
  },
  {
   "cell_type": "code",
   "execution_count": null,
   "metadata": {},
   "outputs": [],
   "source": [
    "path_img = \"/home/vvdiaz1/code/vvdiaz1/automatic_tagging/raw_data/df1\"\n",
    "path_csv = \"/home/vvdiaz1/code/vvdiaz1/automatic_tagging/raw_data/df1.csv\"\n",
    "imgs_model_width, imgs_model_height = 480, 360"
   ]
  },
  {
   "cell_type": "code",
   "execution_count": null,
   "metadata": {},
   "outputs": [],
   "source": [
    "df_1= pd.read_csv(path_csv, error_bad_lines = False,nrows=5000)\n",
    "list_id = list(df_1.id)\n",
    "\n",
    "images = []\n",
    "for file in list_id:\n",
    "    images.append(str(file) + \".jpg\")\n",
    "files = []\n",
    "for image in images:\n",
    "    files.append((os.path.join(path_img, image)))"
   ]
  },
  {
   "cell_type": "code",
   "execution_count": null,
   "metadata": {},
   "outputs": [],
   "source": [
    "importedImages = []\n",
    "\n",
    "for f in files:\n",
    "    filename = f\n",
    "    original = load_img(filename,color_mode='rgb')\n",
    "    numpy_image = img_to_array(original)\n",
    "    image_batch = np.expand_dims(numpy_image, axis=0)\n",
    "    \n",
    "    importedImages.append(image_batch)\n",
    "    \n",
    "images = np.vstack(importedImages)\n",
    "\n",
    "processed_imgs = preprocess_input(images.copy())\n",
    "X = processed_imgs"
   ]
  },
  {
   "attachments": {},
   "cell_type": "markdown",
   "metadata": {},
   "source": [
    "### load y vale hechizo"
   ]
  },
  {
   "cell_type": "code",
   "execution_count": null,
   "metadata": {},
   "outputs": [],
   "source": [
    "df_styles = pd.read_csv(path_csv,error_bad_lines=False)\n",
    "labels = np.unique(df_styles.masterCategory).tolist()\n",
    "num_cat = len(labels)\n",
    "y = df_styles[df_styles.id.isin(img_id)][['masterCategory']]\n",
    "y.masterCategory =pd.Categorical(y.masterCategory)\n",
    "y_num = y.masterCategory.cat.codes\n",
    "y_cat = to_categorical(y_num,num_cat)"
   ]
  },
  {
   "cell_type": "code",
   "execution_count": null,
   "metadata": {},
   "outputs": [],
   "source": [
    "print(y_cat.shape)\n",
    "print()"
   ]
  },
  {
   "attachments": {},
   "cell_type": "markdown",
   "metadata": {},
   "source": [
    "### modelo 1 master category"
   ]
  },
  {
   "cell_type": "code",
   "execution_count": null,
   "metadata": {},
   "outputs": [],
   "source": [
    "from tensorflow.keras.layers.experimental.preprocessing import Rescaling\n",
    "from tensorflow.keras import Sequential, layers, models\n",
    "from tensorflow.keras.callbacks import EarlyStopping\n",
    "from tensorflow.keras.applications.vgg16 import VGG16\n",
    "from tensorflow.keras import optimizers"
   ]
  },
  {
   "cell_type": "code",
   "execution_count": null,
   "metadata": {},
   "outputs": [],
   "source": [
    "X = processed_imgs\n",
    "path_csv= \"/home/vvdiaz1/code/vvdiaz1/automatic_tagging/raw_data/styles.csv\"\n",
    "df_styles = pd.read_csv(path_csv,error_bad_lines=False)"
   ]
  },
  {
   "cell_type": "code",
   "execution_count": null,
   "metadata": {},
   "outputs": [],
   "source": []
  },
  {
   "cell_type": "code",
   "execution_count": null,
   "metadata": {},
   "outputs": [],
   "source": [
    "from sklearn.model_selection import train_test_split\n",
    "X_train = X[:70]\n",
    "X_test = X[70:]\n",
    "y_train = y[:70]\n",
    "y_test = y[70:]"
   ]
  },
  {
   "cell_type": "code",
   "execution_count": null,
   "metadata": {},
   "outputs": [],
   "source": [
    "def load_own_model(X_train):\n",
    "    model = Sequential()\n",
    "    #model.add(layers.BatchNormalization(input_shape=X.shape[1:]))\n",
    "    model.add(layers.Input(shape=input_shape, name='input')\n",
    "    model.add(layers.Conv2D(16, kernel_size=10, activation='relu'))\n",
    "    model.add(layers.MaxPooling2D(3))\n",
    "\n",
    "    model.add(layers.Conv2D(32, kernel_size=8, activation=\"relu\"))\n",
    "    model.add(layers.MaxPooling2D(3))\n",
    "\n",
    "    model.add(layers.Conv2D(32, kernel_size=6, activation=\"relu\"))\n",
    "    model.add(layers.MaxPooling2D(3))\n",
    "\n",
    "    model.add(layers.Flatten())\n",
    "    model.add(layers.Dense(100, activation='relu'))\n",
    "    model.add(layers.Dense(7, activation='softmax'))\n",
    "\n",
    "    model.compile(loss = 'categorical_crossentropy', \n",
    "                    optimizer = 'adam',\n",
    "                    metrics = 'accuracy')\n",
    "    \n",
    "    return model"
   ]
  },
  {
   "cell_type": "code",
   "execution_count": null,
   "metadata": {},
   "outputs": [],
   "source": [
    "model = load_own_model(X_train)\n",
    "model.summary()"
   ]
  },
  {
   "cell_type": "code",
   "execution_count": null,
   "metadata": {},
   "outputs": [],
   "source": [
    "history = model.fit(X_train, y_train,validation_data = (X_test, y_test),\n",
    "                    # batch_size = 32, epochs = 500,\n",
    "                    callbacks = EarlyStopping(patience = 2),\n",
    "                    verbose = 1)"
   ]
  },
  {
   "cell_type": "code",
   "execution_count": null,
   "metadata": {},
   "outputs": [],
   "source": []
  }
 ],
 "metadata": {
  "kernelspec": {
   "display_name": "automatic-tagging",
   "language": "python",
   "name": "python3"
  },
  "language_info": {
   "codemirror_mode": {
    "name": "ipython",
    "version": 3
   },
   "file_extension": ".py",
   "mimetype": "text/x-python",
   "name": "python",
   "nbconvert_exporter": "python",
   "pygments_lexer": "ipython3",
   "version": "3.8.12 (default, Dec 20 2022, 21:33:07) \n[GCC 11.3.0]"
  },
  "orig_nbformat": 4,
  "vscode": {
   "interpreter": {
    "hash": "f29be12947edb0fb12a85f03ec93c6b19442e375d04585e5cfb5d674835b1a2c"
   }
  }
 },
 "nbformat": 4,
 "nbformat_minor": 2
}
